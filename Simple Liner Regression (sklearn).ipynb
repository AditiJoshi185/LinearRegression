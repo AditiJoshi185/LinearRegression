{
 "cells": [
  {
   "cell_type": "code",
   "execution_count": 15,
   "metadata": {},
   "outputs": [],
   "source": [
    "import pandas as pd\n",
    "import numpy as np\n",
    "import matplotlib.pyplot as plt\n",
    "import seaborn as sns\n",
    "sns.set()\n",
    "from sklearn.linear_model import LinearRegression"
   ]
  },
  {
   "cell_type": "code",
   "execution_count": 16,
   "metadata": {},
   "outputs": [
    {
     "output_type": "execute_result",
     "data": {
      "text/plain": "    SAT   GPA\n0  1714  2.40\n1  1664  2.52\n2  1760  2.54\n3  1685  2.74\n4  1693  2.83",
      "text/html": "<div>\n<style scoped>\n    .dataframe tbody tr th:only-of-type {\n        vertical-align: middle;\n    }\n\n    .dataframe tbody tr th {\n        vertical-align: top;\n    }\n\n    .dataframe thead th {\n        text-align: right;\n    }\n</style>\n<table border=\"1\" class=\"dataframe\">\n  <thead>\n    <tr style=\"text-align: right;\">\n      <th></th>\n      <th>SAT</th>\n      <th>GPA</th>\n    </tr>\n  </thead>\n  <tbody>\n    <tr>\n      <th>0</th>\n      <td>1714</td>\n      <td>2.40</td>\n    </tr>\n    <tr>\n      <th>1</th>\n      <td>1664</td>\n      <td>2.52</td>\n    </tr>\n    <tr>\n      <th>2</th>\n      <td>1760</td>\n      <td>2.54</td>\n    </tr>\n    <tr>\n      <th>3</th>\n      <td>1685</td>\n      <td>2.74</td>\n    </tr>\n    <tr>\n      <th>4</th>\n      <td>1693</td>\n      <td>2.83</td>\n    </tr>\n  </tbody>\n</table>\n</div>"
     },
     "metadata": {},
     "execution_count": 16
    }
   ],
   "source": [
    "data = pd.read_csv('./1.01.+Simple+linear+regression.csv')\n",
    "data.head()"
   ]
  },
  {
   "cell_type": "code",
   "execution_count": 17,
   "metadata": {},
   "outputs": [],
   "source": [
    "x = data['SAT']\n",
    "y = data['GPA']"
   ]
  },
  {
   "cell_type": "code",
   "execution_count": 18,
   "metadata": {},
   "outputs": [
    {
     "output_type": "execute_result",
     "data": {
      "text/plain": "(84,)"
     },
     "metadata": {},
     "execution_count": 18
    }
   ],
   "source": [
    "# vectors of length 84\n",
    "x.shape"
   ]
  },
  {
   "cell_type": "code",
   "execution_count": 19,
   "metadata": {},
   "outputs": [
    {
     "output_type": "execute_result",
     "data": {
      "text/plain": "(84,)"
     },
     "metadata": {},
     "execution_count": 19
    }
   ],
   "source": [
    "# vectors of length 84\n",
    "y.shape"
   ]
  },
  {
   "cell_type": "code",
   "execution_count": 20,
   "metadata": {},
   "outputs": [
    {
     "output_type": "execute_result",
     "data": {
      "text/plain": "(84, 1)"
     },
     "metadata": {},
     "execution_count": 20
    }
   ],
   "source": [
    "x_matrix = x.values.reshape(-1,1)\n",
    "x_matrix.shape"
   ]
  },
  {
   "cell_type": "code",
   "execution_count": null,
   "metadata": {},
   "outputs": [],
   "source": []
  },
  {
   "cell_type": "code",
   "execution_count": 21,
   "metadata": {},
   "outputs": [],
   "source": [
    "reg = LinearRegression()"
   ]
  },
  {
   "cell_type": "code",
   "execution_count": 22,
   "metadata": {},
   "outputs": [
    {
     "output_type": "execute_result",
     "data": {
      "text/plain": "LinearRegression(copy_X=True, fit_intercept=True, n_jobs=None, normalize=False)"
     },
     "metadata": {},
     "execution_count": 22
    }
   ],
   "source": [
    "# input , output\n",
    "reg.fit(x_matrix,y)"
   ]
  },
  {
   "cell_type": "markdown",
   "metadata": {},
   "source": [
    "R-squared"
   ]
  },
  {
   "cell_type": "code",
   "execution_count": 23,
   "metadata": {},
   "outputs": [
    {
     "output_type": "execute_result",
     "data": {
      "text/plain": "0.40600391479679765"
     },
     "metadata": {},
     "execution_count": 23
    }
   ],
   "source": [
    "reg.score(x_matrix,y)"
   ]
  },
  {
   "cell_type": "markdown",
   "metadata": {},
   "source": [
    "Coefficent"
   ]
  },
  {
   "cell_type": "code",
   "execution_count": 24,
   "metadata": {},
   "outputs": [
    {
     "output_type": "execute_result",
     "data": {
      "text/plain": "array([0.00165569])"
     },
     "metadata": {},
     "execution_count": 24
    }
   ],
   "source": [
    "reg.coef_"
   ]
  },
  {
   "cell_type": "markdown",
   "metadata": {},
   "source": [
    "Intercept"
   ]
  },
  {
   "cell_type": "code",
   "execution_count": 25,
   "metadata": {},
   "outputs": [
    {
     "output_type": "execute_result",
     "data": {
      "text/plain": "0.2750402996602803"
     },
     "metadata": {},
     "execution_count": 25
    }
   ],
   "source": [
    "reg.intercept_"
   ]
  },
  {
   "cell_type": "markdown",
   "metadata": {},
   "source": [
    "Making Prediction"
   ]
  },
  {
   "cell_type": "code",
   "execution_count": 26,
   "metadata": {},
   "outputs": [
    {
     "output_type": "execute_result",
     "data": {
      "text/plain": "    SAT\n0  1740\n1  1760",
      "text/html": "<div>\n<style scoped>\n    .dataframe tbody tr th:only-of-type {\n        vertical-align: middle;\n    }\n\n    .dataframe tbody tr th {\n        vertical-align: top;\n    }\n\n    .dataframe thead th {\n        text-align: right;\n    }\n</style>\n<table border=\"1\" class=\"dataframe\">\n  <thead>\n    <tr style=\"text-align: right;\">\n      <th></th>\n      <th>SAT</th>\n    </tr>\n  </thead>\n  <tbody>\n    <tr>\n      <th>0</th>\n      <td>1740</td>\n    </tr>\n    <tr>\n      <th>1</th>\n      <td>1760</td>\n    </tr>\n  </tbody>\n</table>\n</div>"
     },
     "metadata": {},
     "execution_count": 26
    }
   ],
   "source": [
    "new_data = pd.DataFrame(data=[1740,1760],columns = ['SAT'])\n",
    "new_data"
   ]
  },
  {
   "cell_type": "code",
   "execution_count": 27,
   "metadata": {},
   "outputs": [
    {
     "output_type": "execute_result",
     "data": {
      "text/plain": "array([3.15593751, 3.18905127])"
     },
     "metadata": {},
     "execution_count": 27
    }
   ],
   "source": [
    "reg.predict(new_data)"
   ]
  },
  {
   "cell_type": "code",
   "execution_count": 28,
   "metadata": {},
   "outputs": [
    {
     "output_type": "execute_result",
     "data": {
      "text/plain": "    SAT  Predicted_GPA\n0  1740       3.155938\n1  1760       3.189051",
      "text/html": "<div>\n<style scoped>\n    .dataframe tbody tr th:only-of-type {\n        vertical-align: middle;\n    }\n\n    .dataframe tbody tr th {\n        vertical-align: top;\n    }\n\n    .dataframe thead th {\n        text-align: right;\n    }\n</style>\n<table border=\"1\" class=\"dataframe\">\n  <thead>\n    <tr style=\"text-align: right;\">\n      <th></th>\n      <th>SAT</th>\n      <th>Predicted_GPA</th>\n    </tr>\n  </thead>\n  <tbody>\n    <tr>\n      <th>0</th>\n      <td>1740</td>\n      <td>3.155938</td>\n    </tr>\n    <tr>\n      <th>1</th>\n      <td>1760</td>\n      <td>3.189051</td>\n    </tr>\n  </tbody>\n</table>\n</div>"
     },
     "metadata": {},
     "execution_count": 28
    }
   ],
   "source": [
    "new_data['Predicted_GPA'] = reg.predict(new_data)\n",
    "new_data"
   ]
  },
  {
   "cell_type": "code",
   "execution_count": 29,
   "metadata": {},
   "outputs": [
    {
     "output_type": "display_data",
     "data": {
      "text/plain": "<Figure size 432x288 with 1 Axes>",
      "image/svg+xml": "<?xml version=\"1.0\" encoding=\"utf-8\" standalone=\"no\"?>\n<!DOCTYPE svg PUBLIC \"-//W3C//DTD SVG 1.1//EN\"\n  \"http://www.w3.org/Graphics/SVG/1.1/DTD/svg11.dtd\">\n<!-- Created with matplotlib (https://matplotlib.org/) -->\n<svg height=\"273.690469pt\" version=\"1.1\" viewBox=\"0 0 396.280625 273.690469\" width=\"396.280625pt\" xmlns=\"http://www.w3.org/2000/svg\" xmlns:xlink=\"http://www.w3.org/1999/xlink\">\n <defs>\n  <style type=\"text/css\">\n*{stroke-linecap:butt;stroke-linejoin:round;}\n  </style>\n </defs>\n <g id=\"figure_1\">\n  <g id=\"patch_1\">\n   <path d=\"M 0 273.690469 \nL 396.280625 273.690469 \nL 396.280625 0 \nL 0 0 \nz\n\" style=\"fill:#ffffff;\"/>\n  </g>\n  <g id=\"axes_1\">\n   <g id=\"patch_2\">\n    <path d=\"M 54.280625 224.64 \nL 389.080625 224.64 \nL 389.080625 7.2 \nL 54.280625 7.2 \nz\n\" style=\"fill:#eaeaf2;\"/>\n   </g>\n   <g id=\"matplotlib.axis_1\">\n    <g id=\"xtick_1\">\n     <g id=\"line2d_1\">\n      <path clip-path=\"url(#p97d4c14e58)\" d=\"M 117.791744 224.64 \nL 117.791744 7.2 \n\" style=\"fill:none;stroke:#ffffff;stroke-linecap:round;\"/>\n     </g>\n     <g id=\"text_1\">\n      <!-- 1700 -->\n      <defs>\n       <path d=\"M 37.25 0 \nL 28.46875 0 \nL 28.46875 56 \nQ 25.296875 52.984375 20.140625 49.953125 \nQ 14.984375 46.921875 10.890625 45.40625 \nL 10.890625 53.90625 \nQ 18.265625 57.375 23.78125 62.296875 \nQ 29.296875 67.234375 31.59375 71.875 \nL 37.25 71.875 \nz\n\" id=\"ArialMT-49\"/>\n       <path d=\"M 4.734375 62.203125 \nL 4.734375 70.65625 \nL 51.078125 70.65625 \nL 51.078125 63.8125 \nQ 44.234375 56.546875 37.515625 44.484375 \nQ 30.8125 32.421875 27.15625 19.671875 \nQ 24.515625 10.6875 23.78125 0 \nL 14.75 0 \nQ 14.890625 8.453125 18.0625 20.40625 \nQ 21.234375 32.375 27.171875 43.484375 \nQ 33.109375 54.59375 39.796875 62.203125 \nz\n\" id=\"ArialMT-55\"/>\n       <path d=\"M 4.15625 35.296875 \nQ 4.15625 48 6.765625 55.734375 \nQ 9.375 63.484375 14.515625 67.671875 \nQ 19.671875 71.875 27.484375 71.875 \nQ 33.25 71.875 37.59375 69.546875 \nQ 41.9375 67.234375 44.765625 62.859375 \nQ 47.609375 58.5 49.21875 52.21875 \nQ 50.828125 45.953125 50.828125 35.296875 \nQ 50.828125 22.703125 48.234375 14.96875 \nQ 45.65625 7.234375 40.5 3 \nQ 35.359375 -1.21875 27.484375 -1.21875 \nQ 17.140625 -1.21875 11.234375 6.203125 \nQ 4.15625 15.140625 4.15625 35.296875 \nz\nM 13.1875 35.296875 \nQ 13.1875 17.671875 17.3125 11.828125 \nQ 21.4375 6 27.484375 6 \nQ 33.546875 6 37.671875 11.859375 \nQ 41.796875 17.71875 41.796875 35.296875 \nQ 41.796875 52.984375 37.671875 58.78125 \nQ 33.546875 64.59375 27.390625 64.59375 \nQ 21.34375 64.59375 17.71875 59.46875 \nQ 13.1875 52.9375 13.1875 35.296875 \nz\n\" id=\"ArialMT-48\"/>\n      </defs>\n      <g style=\"fill:#262626;\" transform=\"translate(105.557681 242.013594)scale(0.11 -0.11)\">\n       <use xlink:href=\"#ArialMT-49\"/>\n       <use x=\"55.615234\" xlink:href=\"#ArialMT-55\"/>\n       <use x=\"111.230469\" xlink:href=\"#ArialMT-48\"/>\n       <use x=\"166.845703\" xlink:href=\"#ArialMT-48\"/>\n      </g>\n     </g>\n    </g>\n    <g id=\"xtick_2\">\n     <g id=\"line2d_2\">\n      <path clip-path=\"url(#p97d4c14e58)\" d=\"M 190.952928 224.64 \nL 190.952928 7.2 \n\" style=\"fill:none;stroke:#ffffff;stroke-linecap:round;\"/>\n     </g>\n     <g id=\"text_2\">\n      <!-- 1800 -->\n      <defs>\n       <path d=\"M 17.671875 38.8125 \nQ 12.203125 40.828125 9.5625 44.53125 \nQ 6.9375 48.25 6.9375 53.421875 \nQ 6.9375 61.234375 12.546875 66.546875 \nQ 18.171875 71.875 27.484375 71.875 \nQ 36.859375 71.875 42.578125 66.421875 \nQ 48.296875 60.984375 48.296875 53.171875 \nQ 48.296875 48.1875 45.671875 44.5 \nQ 43.0625 40.828125 37.75 38.8125 \nQ 44.34375 36.671875 47.78125 31.875 \nQ 51.21875 27.09375 51.21875 20.453125 \nQ 51.21875 11.28125 44.71875 5.03125 \nQ 38.234375 -1.21875 27.640625 -1.21875 \nQ 17.046875 -1.21875 10.546875 5.046875 \nQ 4.046875 11.328125 4.046875 20.703125 \nQ 4.046875 27.6875 7.59375 32.390625 \nQ 11.140625 37.109375 17.671875 38.8125 \nz\nM 15.921875 53.71875 \nQ 15.921875 48.640625 19.1875 45.40625 \nQ 22.46875 42.1875 27.6875 42.1875 \nQ 32.765625 42.1875 36.015625 45.375 \nQ 39.265625 48.578125 39.265625 53.21875 \nQ 39.265625 58.0625 35.90625 61.359375 \nQ 32.5625 64.65625 27.59375 64.65625 \nQ 22.5625 64.65625 19.234375 61.421875 \nQ 15.921875 58.203125 15.921875 53.71875 \nz\nM 13.09375 20.65625 \nQ 13.09375 16.890625 14.875 13.375 \nQ 16.65625 9.859375 20.171875 7.921875 \nQ 23.6875 6 27.734375 6 \nQ 34.03125 6 38.125 10.046875 \nQ 42.234375 14.109375 42.234375 20.359375 \nQ 42.234375 26.703125 38.015625 30.859375 \nQ 33.796875 35.015625 27.4375 35.015625 \nQ 21.234375 35.015625 17.15625 30.90625 \nQ 13.09375 26.8125 13.09375 20.65625 \nz\n\" id=\"ArialMT-56\"/>\n      </defs>\n      <g style=\"fill:#262626;\" transform=\"translate(178.718865 242.013594)scale(0.11 -0.11)\">\n       <use xlink:href=\"#ArialMT-49\"/>\n       <use x=\"55.615234\" xlink:href=\"#ArialMT-56\"/>\n       <use x=\"111.230469\" xlink:href=\"#ArialMT-48\"/>\n       <use x=\"166.845703\" xlink:href=\"#ArialMT-48\"/>\n      </g>\n     </g>\n    </g>\n    <g id=\"xtick_3\">\n     <g id=\"line2d_3\">\n      <path clip-path=\"url(#p97d4c14e58)\" d=\"M 264.114112 224.64 \nL 264.114112 7.2 \n\" style=\"fill:none;stroke:#ffffff;stroke-linecap:round;\"/>\n     </g>\n     <g id=\"text_3\">\n      <!-- 1900 -->\n      <defs>\n       <path d=\"M 5.46875 16.546875 \nL 13.921875 17.328125 \nQ 14.984375 11.375 18.015625 8.6875 \nQ 21.046875 6 25.78125 6 \nQ 29.828125 6 32.875 7.859375 \nQ 35.9375 9.71875 37.890625 12.8125 \nQ 39.84375 15.921875 41.15625 21.1875 \nQ 42.484375 26.46875 42.484375 31.9375 \nQ 42.484375 32.515625 42.4375 33.6875 \nQ 39.796875 29.5 35.234375 26.875 \nQ 30.671875 24.265625 25.34375 24.265625 \nQ 16.453125 24.265625 10.296875 30.703125 \nQ 4.15625 37.15625 4.15625 47.703125 \nQ 4.15625 58.59375 10.578125 65.234375 \nQ 17 71.875 26.65625 71.875 \nQ 33.640625 71.875 39.421875 68.109375 \nQ 45.21875 64.359375 48.21875 57.390625 \nQ 51.21875 50.4375 51.21875 37.25 \nQ 51.21875 23.53125 48.234375 15.40625 \nQ 45.265625 7.28125 39.375 3.03125 \nQ 33.5 -1.21875 25.59375 -1.21875 \nQ 17.1875 -1.21875 11.859375 3.4375 \nQ 6.546875 8.109375 5.46875 16.546875 \nz\nM 41.453125 48.140625 \nQ 41.453125 55.71875 37.421875 60.15625 \nQ 33.40625 64.59375 27.734375 64.59375 \nQ 21.875 64.59375 17.53125 59.8125 \nQ 13.1875 55.03125 13.1875 47.40625 \nQ 13.1875 40.578125 17.3125 36.296875 \nQ 21.4375 32.03125 27.484375 32.03125 \nQ 33.59375 32.03125 37.515625 36.296875 \nQ 41.453125 40.578125 41.453125 48.140625 \nz\n\" id=\"ArialMT-57\"/>\n      </defs>\n      <g style=\"fill:#262626;\" transform=\"translate(251.880049 242.013594)scale(0.11 -0.11)\">\n       <use xlink:href=\"#ArialMT-49\"/>\n       <use x=\"55.615234\" xlink:href=\"#ArialMT-57\"/>\n       <use x=\"111.230469\" xlink:href=\"#ArialMT-48\"/>\n       <use x=\"166.845703\" xlink:href=\"#ArialMT-48\"/>\n      </g>\n     </g>\n    </g>\n    <g id=\"xtick_4\">\n     <g id=\"line2d_4\">\n      <path clip-path=\"url(#p97d4c14e58)\" d=\"M 337.275296 224.64 \nL 337.275296 7.2 \n\" style=\"fill:none;stroke:#ffffff;stroke-linecap:round;\"/>\n     </g>\n     <g id=\"text_4\">\n      <!-- 2000 -->\n      <defs>\n       <path d=\"M 50.34375 8.453125 \nL 50.34375 0 \nL 3.03125 0 \nQ 2.9375 3.171875 4.046875 6.109375 \nQ 5.859375 10.9375 9.828125 15.625 \nQ 13.8125 20.3125 21.34375 26.46875 \nQ 33.015625 36.03125 37.109375 41.625 \nQ 41.21875 47.21875 41.21875 52.203125 \nQ 41.21875 57.421875 37.46875 61 \nQ 33.734375 64.59375 27.734375 64.59375 \nQ 21.390625 64.59375 17.578125 60.78125 \nQ 13.765625 56.984375 13.71875 50.25 \nL 4.6875 51.171875 \nQ 5.609375 61.28125 11.65625 66.578125 \nQ 17.71875 71.875 27.9375 71.875 \nQ 38.234375 71.875 44.234375 66.15625 \nQ 50.25 60.453125 50.25 52 \nQ 50.25 47.703125 48.484375 43.546875 \nQ 46.734375 39.40625 42.65625 34.8125 \nQ 38.578125 30.21875 29.109375 22.21875 \nQ 21.1875 15.578125 18.9375 13.203125 \nQ 16.703125 10.84375 15.234375 8.453125 \nz\n\" id=\"ArialMT-50\"/>\n      </defs>\n      <g style=\"fill:#262626;\" transform=\"translate(325.041233 242.013594)scale(0.11 -0.11)\">\n       <use xlink:href=\"#ArialMT-50\"/>\n       <use x=\"55.615234\" xlink:href=\"#ArialMT-48\"/>\n       <use x=\"111.230469\" xlink:href=\"#ArialMT-48\"/>\n       <use x=\"166.845703\" xlink:href=\"#ArialMT-48\"/>\n      </g>\n     </g>\n    </g>\n    <g id=\"text_5\">\n     <!-- SAT -->\n     <defs>\n      <path d=\"M 4.5 23 \nL 13.421875 23.78125 \nQ 14.0625 18.40625 16.375 14.96875 \nQ 18.703125 11.53125 23.578125 9.40625 \nQ 28.46875 7.28125 34.578125 7.28125 \nQ 39.984375 7.28125 44.140625 8.890625 \nQ 48.296875 10.5 50.3125 13.296875 \nQ 52.34375 16.109375 52.34375 19.4375 \nQ 52.34375 22.796875 50.390625 25.3125 \nQ 48.4375 27.828125 43.953125 29.546875 \nQ 41.0625 30.671875 31.203125 33.03125 \nQ 21.34375 35.40625 17.390625 37.5 \nQ 12.25 40.1875 9.734375 44.15625 \nQ 7.234375 48.140625 7.234375 53.078125 \nQ 7.234375 58.5 10.296875 63.203125 \nQ 13.375 67.921875 19.28125 70.359375 \nQ 25.203125 72.796875 32.421875 72.796875 \nQ 40.375 72.796875 46.453125 70.234375 \nQ 52.546875 67.671875 55.8125 62.6875 \nQ 59.078125 57.71875 59.328125 51.421875 \nL 50.25 50.734375 \nQ 49.515625 57.515625 45.28125 60.984375 \nQ 41.0625 64.453125 32.8125 64.453125 \nQ 24.21875 64.453125 20.28125 61.296875 \nQ 16.359375 58.15625 16.359375 53.71875 \nQ 16.359375 49.859375 19.140625 47.359375 \nQ 21.875 44.875 33.421875 42.265625 \nQ 44.96875 39.65625 49.265625 37.703125 \nQ 55.515625 34.8125 58.484375 30.390625 \nQ 61.46875 25.984375 61.46875 20.21875 \nQ 61.46875 14.5 58.203125 9.4375 \nQ 54.9375 4.390625 48.796875 1.578125 \nQ 42.671875 -1.21875 35.015625 -1.21875 \nQ 25.296875 -1.21875 18.71875 1.609375 \nQ 12.15625 4.4375 8.421875 10.125 \nQ 4.6875 15.828125 4.5 23 \nz\n\" id=\"ArialMT-83\"/>\n      <path d=\"M -0.140625 0 \nL 27.34375 71.578125 \nL 37.546875 71.578125 \nL 66.84375 0 \nL 56.0625 0 \nL 47.703125 21.6875 \nL 17.78125 21.6875 \nL 9.90625 0 \nz\nM 20.515625 29.390625 \nL 44.78125 29.390625 \nL 37.3125 49.21875 \nQ 33.890625 58.25 32.234375 64.0625 \nQ 30.859375 57.171875 28.375 50.390625 \nz\n\" id=\"ArialMT-65\"/>\n      <path d=\"M 25.921875 0 \nL 25.921875 63.140625 \nL 2.34375 63.140625 \nL 2.34375 71.578125 \nL 59.078125 71.578125 \nL 59.078125 63.140625 \nL 35.40625 63.140625 \nL 35.40625 0 \nz\n\" id=\"ArialMT-84\"/>\n     </defs>\n     <g style=\"fill:#262626;\" transform=\"translate(202.243125 262.515469)scale(0.2 -0.2)\">\n      <use xlink:href=\"#ArialMT-83\"/>\n      <use x=\"66.699219\" xlink:href=\"#ArialMT-65\"/>\n      <use x=\"133.289062\" xlink:href=\"#ArialMT-84\"/>\n     </g>\n    </g>\n   </g>\n   <g id=\"matplotlib.axis_2\">\n    <g id=\"ytick_1\">\n     <g id=\"line2d_5\">\n      <path clip-path=\"url(#p97d4c14e58)\" d=\"M 54.280625 212.859254 \nL 389.080625 212.859254 \n\" style=\"fill:none;stroke:#ffffff;stroke-linecap:round;\"/>\n     </g>\n     <g id=\"text_6\">\n      <!-- 2.4 -->\n      <defs>\n       <path d=\"M 9.078125 0 \nL 9.078125 10.015625 \nL 19.09375 10.015625 \nL 19.09375 0 \nz\n\" id=\"ArialMT-46\"/>\n       <path d=\"M 32.328125 0 \nL 32.328125 17.140625 \nL 1.265625 17.140625 \nL 1.265625 25.203125 \nL 33.9375 71.578125 \nL 41.109375 71.578125 \nL 41.109375 25.203125 \nL 50.78125 25.203125 \nL 50.78125 17.140625 \nL 41.109375 17.140625 \nL 41.109375 0 \nz\nM 32.328125 25.203125 \nL 32.328125 57.46875 \nL 9.90625 25.203125 \nz\n\" id=\"ArialMT-52\"/>\n      </defs>\n      <g style=\"fill:#262626;\" transform=\"translate(29.490625 216.796051)scale(0.11 -0.11)\">\n       <use xlink:href=\"#ArialMT-50\"/>\n       <use x=\"55.615234\" xlink:href=\"#ArialMT-46\"/>\n       <use x=\"83.398438\" xlink:href=\"#ArialMT-52\"/>\n      </g>\n     </g>\n    </g>\n    <g id=\"ytick_2\">\n     <g id=\"line2d_6\">\n      <path clip-path=\"url(#p97d4c14e58)\" d=\"M 54.280625 185.358757 \nL 389.080625 185.358757 \n\" style=\"fill:none;stroke:#ffffff;stroke-linecap:round;\"/>\n     </g>\n     <g id=\"text_7\">\n      <!-- 2.6 -->\n      <defs>\n       <path d=\"M 49.75 54.046875 \nL 41.015625 53.375 \nQ 39.84375 58.546875 37.703125 60.890625 \nQ 34.125 64.65625 28.90625 64.65625 \nQ 24.703125 64.65625 21.53125 62.3125 \nQ 17.390625 59.28125 14.984375 53.46875 \nQ 12.59375 47.65625 12.5 36.921875 \nQ 15.671875 41.75 20.265625 44.09375 \nQ 24.859375 46.4375 29.890625 46.4375 \nQ 38.671875 46.4375 44.84375 39.96875 \nQ 51.03125 33.5 51.03125 23.25 \nQ 51.03125 16.5 48.125 10.71875 \nQ 45.21875 4.9375 40.140625 1.859375 \nQ 35.0625 -1.21875 28.609375 -1.21875 \nQ 17.625 -1.21875 10.6875 6.859375 \nQ 3.765625 14.9375 3.765625 33.5 \nQ 3.765625 54.25 11.421875 63.671875 \nQ 18.109375 71.875 29.4375 71.875 \nQ 37.890625 71.875 43.28125 67.140625 \nQ 48.6875 62.40625 49.75 54.046875 \nz\nM 13.875 23.1875 \nQ 13.875 18.65625 15.796875 14.5 \nQ 17.71875 10.359375 21.1875 8.171875 \nQ 24.65625 6 28.46875 6 \nQ 34.03125 6 38.03125 10.484375 \nQ 42.046875 14.984375 42.046875 22.703125 \nQ 42.046875 30.125 38.078125 34.390625 \nQ 34.125 38.671875 28.125 38.671875 \nQ 22.171875 38.671875 18.015625 34.390625 \nQ 13.875 30.125 13.875 23.1875 \nz\n\" id=\"ArialMT-54\"/>\n      </defs>\n      <g style=\"fill:#262626;\" transform=\"translate(29.490625 189.295553)scale(0.11 -0.11)\">\n       <use xlink:href=\"#ArialMT-50\"/>\n       <use x=\"55.615234\" xlink:href=\"#ArialMT-46\"/>\n       <use x=\"83.398438\" xlink:href=\"#ArialMT-54\"/>\n      </g>\n     </g>\n    </g>\n    <g id=\"ytick_3\">\n     <g id=\"line2d_7\">\n      <path clip-path=\"url(#p97d4c14e58)\" d=\"M 54.280625 157.858259 \nL 389.080625 157.858259 \n\" style=\"fill:none;stroke:#ffffff;stroke-linecap:round;\"/>\n     </g>\n     <g id=\"text_8\">\n      <!-- 2.8 -->\n      <g style=\"fill:#262626;\" transform=\"translate(29.490625 161.795056)scale(0.11 -0.11)\">\n       <use xlink:href=\"#ArialMT-50\"/>\n       <use x=\"55.615234\" xlink:href=\"#ArialMT-46\"/>\n       <use x=\"83.398438\" xlink:href=\"#ArialMT-56\"/>\n      </g>\n     </g>\n    </g>\n    <g id=\"ytick_4\">\n     <g id=\"line2d_8\">\n      <path clip-path=\"url(#p97d4c14e58)\" d=\"M 54.280625 130.357761 \nL 389.080625 130.357761 \n\" style=\"fill:none;stroke:#ffffff;stroke-linecap:round;\"/>\n     </g>\n     <g id=\"text_9\">\n      <!-- 3.0 -->\n      <defs>\n       <path d=\"M 4.203125 18.890625 \nL 12.984375 20.0625 \nQ 14.5 12.59375 18.140625 9.296875 \nQ 21.78125 6 27 6 \nQ 33.203125 6 37.46875 10.296875 \nQ 41.75 14.59375 41.75 20.953125 \nQ 41.75 27 37.796875 30.921875 \nQ 33.84375 34.859375 27.734375 34.859375 \nQ 25.25 34.859375 21.53125 33.890625 \nL 22.515625 41.609375 \nQ 23.390625 41.5 23.921875 41.5 \nQ 29.546875 41.5 34.03125 44.421875 \nQ 38.53125 47.359375 38.53125 53.46875 \nQ 38.53125 58.296875 35.25 61.46875 \nQ 31.984375 64.65625 26.8125 64.65625 \nQ 21.6875 64.65625 18.265625 61.421875 \nQ 14.84375 58.203125 13.875 51.765625 \nL 5.078125 53.328125 \nQ 6.6875 62.15625 12.390625 67.015625 \nQ 18.109375 71.875 26.609375 71.875 \nQ 32.46875 71.875 37.390625 69.359375 \nQ 42.328125 66.84375 44.9375 62.5 \nQ 47.5625 58.15625 47.5625 53.265625 \nQ 47.5625 48.640625 45.0625 44.828125 \nQ 42.578125 41.015625 37.703125 38.765625 \nQ 44.046875 37.3125 47.5625 32.6875 \nQ 51.078125 28.078125 51.078125 21.140625 \nQ 51.078125 11.765625 44.234375 5.25 \nQ 37.40625 -1.265625 26.953125 -1.265625 \nQ 17.53125 -1.265625 11.296875 4.34375 \nQ 5.078125 9.96875 4.203125 18.890625 \nz\n\" id=\"ArialMT-51\"/>\n      </defs>\n      <g style=\"fill:#262626;\" transform=\"translate(29.490625 134.294558)scale(0.11 -0.11)\">\n       <use xlink:href=\"#ArialMT-51\"/>\n       <use x=\"55.615234\" xlink:href=\"#ArialMT-46\"/>\n       <use x=\"83.398438\" xlink:href=\"#ArialMT-48\"/>\n      </g>\n     </g>\n    </g>\n    <g id=\"ytick_5\">\n     <g id=\"line2d_9\">\n      <path clip-path=\"url(#p97d4c14e58)\" d=\"M 54.280625 102.857264 \nL 389.080625 102.857264 \n\" style=\"fill:none;stroke:#ffffff;stroke-linecap:round;\"/>\n     </g>\n     <g id=\"text_10\">\n      <!-- 3.2 -->\n      <g style=\"fill:#262626;\" transform=\"translate(29.490625 106.79406)scale(0.11 -0.11)\">\n       <use xlink:href=\"#ArialMT-51\"/>\n       <use x=\"55.615234\" xlink:href=\"#ArialMT-46\"/>\n       <use x=\"83.398438\" xlink:href=\"#ArialMT-50\"/>\n      </g>\n     </g>\n    </g>\n    <g id=\"ytick_6\">\n     <g id=\"line2d_10\">\n      <path clip-path=\"url(#p97d4c14e58)\" d=\"M 54.280625 75.356766 \nL 389.080625 75.356766 \n\" style=\"fill:none;stroke:#ffffff;stroke-linecap:round;\"/>\n     </g>\n     <g id=\"text_11\">\n      <!-- 3.4 -->\n      <g style=\"fill:#262626;\" transform=\"translate(29.490625 79.293563)scale(0.11 -0.11)\">\n       <use xlink:href=\"#ArialMT-51\"/>\n       <use x=\"55.615234\" xlink:href=\"#ArialMT-46\"/>\n       <use x=\"83.398438\" xlink:href=\"#ArialMT-52\"/>\n      </g>\n     </g>\n    </g>\n    <g id=\"ytick_7\">\n     <g id=\"line2d_11\">\n      <path clip-path=\"url(#p97d4c14e58)\" d=\"M 54.280625 47.856268 \nL 389.080625 47.856268 \n\" style=\"fill:none;stroke:#ffffff;stroke-linecap:round;\"/>\n     </g>\n     <g id=\"text_12\">\n      <!-- 3.6 -->\n      <g style=\"fill:#262626;\" transform=\"translate(29.490625 51.793065)scale(0.11 -0.11)\">\n       <use xlink:href=\"#ArialMT-51\"/>\n       <use x=\"55.615234\" xlink:href=\"#ArialMT-46\"/>\n       <use x=\"83.398438\" xlink:href=\"#ArialMT-54\"/>\n      </g>\n     </g>\n    </g>\n    <g id=\"ytick_8\">\n     <g id=\"line2d_12\">\n      <path clip-path=\"url(#p97d4c14e58)\" d=\"M 54.280625 20.355771 \nL 389.080625 20.355771 \n\" style=\"fill:none;stroke:#ffffff;stroke-linecap:round;\"/>\n     </g>\n     <g id=\"text_13\">\n      <!-- 3.8 -->\n      <g style=\"fill:#262626;\" transform=\"translate(29.490625 24.292568)scale(0.11 -0.11)\">\n       <use xlink:href=\"#ArialMT-51\"/>\n       <use x=\"55.615234\" xlink:href=\"#ArialMT-46\"/>\n       <use x=\"83.398438\" xlink:href=\"#ArialMT-56\"/>\n      </g>\n     </g>\n    </g>\n    <g id=\"text_14\">\n     <!-- GPA -->\n     <defs>\n      <path d=\"M 41.21875 28.078125 \nL 41.21875 36.46875 \nL 71.53125 36.53125 \nL 71.53125 9.96875 \nQ 64.546875 4.390625 57.125 1.578125 \nQ 49.703125 -1.21875 41.890625 -1.21875 \nQ 31.34375 -1.21875 22.71875 3.296875 \nQ 14.109375 7.8125 9.71875 16.359375 \nQ 5.328125 24.90625 5.328125 35.453125 \nQ 5.328125 45.90625 9.6875 54.953125 \nQ 14.0625 64.015625 22.265625 68.40625 \nQ 30.46875 72.796875 41.15625 72.796875 \nQ 48.921875 72.796875 55.1875 70.28125 \nQ 61.46875 67.78125 65.03125 63.28125 \nQ 68.609375 58.796875 70.453125 51.5625 \nL 61.921875 49.21875 \nQ 60.296875 54.6875 57.90625 57.8125 \nQ 55.515625 60.9375 51.0625 62.8125 \nQ 46.625 64.703125 41.21875 64.703125 \nQ 34.71875 64.703125 29.984375 62.71875 \nQ 25.25 60.75 22.34375 57.515625 \nQ 19.4375 54.296875 17.828125 50.4375 \nQ 15.09375 43.796875 15.09375 36.03125 \nQ 15.09375 26.46875 18.390625 20.015625 \nQ 21.6875 13.578125 27.984375 10.453125 \nQ 34.28125 7.328125 41.359375 7.328125 \nQ 47.515625 7.328125 53.375 9.6875 \nQ 59.234375 12.0625 62.25 14.75 \nL 62.25 28.078125 \nz\n\" id=\"ArialMT-71\"/>\n      <path d=\"M 7.71875 0 \nL 7.71875 71.578125 \nL 34.71875 71.578125 \nQ 41.84375 71.578125 45.609375 70.90625 \nQ 50.875 70.015625 54.4375 67.546875 \nQ 58.015625 65.09375 60.1875 60.640625 \nQ 62.359375 56.203125 62.359375 50.875 \nQ 62.359375 41.75 56.546875 35.421875 \nQ 50.734375 29.109375 35.546875 29.109375 \nL 17.1875 29.109375 \nL 17.1875 0 \nz\nM 17.1875 37.546875 \nL 35.6875 37.546875 \nQ 44.875 37.546875 48.734375 40.96875 \nQ 52.59375 44.390625 52.59375 50.59375 \nQ 52.59375 55.078125 50.3125 58.265625 \nQ 48.046875 61.46875 44.34375 62.5 \nQ 41.9375 63.140625 35.5 63.140625 \nL 17.1875 63.140625 \nz\n\" id=\"ArialMT-80\"/>\n     </defs>\n     <g style=\"fill:#262626;\" transform=\"translate(21.515625 137.027812)rotate(-90)scale(0.2 -0.2)\">\n      <use xlink:href=\"#ArialMT-71\"/>\n      <use x=\"77.783203\" xlink:href=\"#ArialMT-80\"/>\n      <use x=\"144.373047\" xlink:href=\"#ArialMT-65\"/>\n     </g>\n    </g>\n   </g>\n   <g id=\"PathCollection_1\">\n    <defs>\n     <path d=\"M 0 3 \nC 0.795609 3 1.55874 2.683901 2.12132 2.12132 \nC 2.683901 1.55874 3 0.795609 3 0 \nC 3 -0.795609 2.683901 -1.55874 2.12132 -2.12132 \nC 1.55874 -2.683901 0.795609 -3 0 -3 \nC -0.795609 -3 -1.55874 -2.683901 -2.12132 -2.12132 \nC -2.683901 -1.55874 -3 -0.795609 -3 0 \nC -3 0.795609 -2.683901 1.55874 -2.12132 2.12132 \nC -1.55874 2.683901 -0.795609 3 0 3 \nz\n\" id=\"m3ef5f9d799\" style=\"stroke:#4c72b0;\"/>\n    </defs>\n    <g clip-path=\"url(#p97d4c14e58)\">\n     <use style=\"fill:#4c72b0;stroke:#4c72b0;\" x=\"128.03431\" xlink:href=\"#m3ef5f9d799\" y=\"212.859254\"/>\n     <use style=\"fill:#4c72b0;stroke:#4c72b0;\" x=\"91.453718\" xlink:href=\"#m3ef5f9d799\" y=\"196.358956\"/>\n     <use style=\"fill:#4c72b0;stroke:#4c72b0;\" x=\"161.688454\" xlink:href=\"#m3ef5f9d799\" y=\"193.608906\"/>\n     <use style=\"fill:#4c72b0;stroke:#4c72b0;\" x=\"106.817566\" xlink:href=\"#m3ef5f9d799\" y=\"166.108408\"/>\n     <use style=\"fill:#4c72b0;stroke:#4c72b0;\" x=\"112.670461\" xlink:href=\"#m3ef5f9d799\" y=\"153.733184\"/>\n     <use style=\"fill:#4c72b0;stroke:#4c72b0;\" x=\"95.843389\" xlink:href=\"#m3ef5f9d799\" y=\"142.732985\"/>\n     <use style=\"fill:#4c72b0;stroke:#4c72b0;\" x=\"164.614902\" xlink:href=\"#m3ef5f9d799\" y=\"130.357761\"/>\n     <use style=\"fill:#4c72b0;stroke:#4c72b0;\" x=\"164.614902\" xlink:href=\"#m3ef5f9d799\" y=\"130.357761\"/>\n     <use style=\"fill:#4c72b0;stroke:#4c72b0;\" x=\"185.100033\" xlink:href=\"#m3ef5f9d799\" y=\"128.982736\"/>\n     <use style=\"fill:#4c72b0;stroke:#4c72b0;\" x=\"227.53352\" xlink:href=\"#m3ef5f9d799\" y=\"128.982736\"/>\n     <use style=\"fill:#4c72b0;stroke:#4c72b0;\" x=\"143.398158\" xlink:href=\"#m3ef5f9d799\" y=\"127.607712\"/>\n     <use style=\"fill:#4c72b0;stroke:#4c72b0;\" x=\"172.662632\" xlink:href=\"#m3ef5f9d799\" y=\"120.732587\"/>\n     <use style=\"fill:#4c72b0;stroke:#4c72b0;\" x=\"143.398158\" xlink:href=\"#m3ef5f9d799\" y=\"119.357562\"/>\n     <use style=\"fill:#4c72b0;stroke:#4c72b0;\" x=\"126.571086\" xlink:href=\"#m3ef5f9d799\" y=\"119.357562\"/>\n     <use style=\"fill:#4c72b0;stroke:#4c72b0;\" x=\"171.199408\" xlink:href=\"#m3ef5f9d799\" y=\"113.857463\"/>\n     <use style=\"fill:#4c72b0;stroke:#4c72b0;\" x=\"243.62898\" xlink:href=\"#m3ef5f9d799\" y=\"106.982338\"/>\n     <use style=\"fill:#4c72b0;stroke:#4c72b0;\" x=\"158.030395\" xlink:href=\"#m3ef5f9d799\" y=\"106.982338\"/>\n     <use style=\"fill:#4c72b0;stroke:#4c72b0;\" x=\"98.769836\" xlink:href=\"#m3ef5f9d799\" y=\"106.982338\"/>\n     <use style=\"fill:#4c72b0;stroke:#4c72b0;\" x=\"221.680625\" xlink:href=\"#m3ef5f9d799\" y=\"106.982338\"/>\n     <use style=\"fill:#4c72b0;stroke:#4c72b0;\" x=\"180.710362\" xlink:href=\"#m3ef5f9d799\" y=\"104.232288\"/>\n     <use style=\"fill:#4c72b0;stroke:#4c72b0;\" x=\"162.420066\" xlink:href=\"#m3ef5f9d799\" y=\"104.232288\"/>\n     <use style=\"fill:#4c72b0;stroke:#4c72b0;\" x=\"133.887204\" xlink:href=\"#m3ef5f9d799\" y=\"104.232288\"/>\n     <use style=\"fill:#4c72b0;stroke:#4c72b0;\" x=\"90.722106\" xlink:href=\"#m3ef5f9d799\" y=\"102.857264\"/>\n     <use style=\"fill:#4c72b0;stroke:#4c72b0;\" x=\"108.28079\" xlink:href=\"#m3ef5f9d799\" y=\"101.482239\"/>\n     <use style=\"fill:#4c72b0;stroke:#4c72b0;\" x=\"318.253388\" xlink:href=\"#m3ef5f9d799\" y=\"97.357164\"/>\n     <use style=\"fill:#4c72b0;stroke:#4c72b0;\" x=\"209.974836\" xlink:href=\"#m3ef5f9d799\" y=\"91.857065\"/>\n     <use style=\"fill:#4c72b0;stroke:#4c72b0;\" x=\"181.441974\" xlink:href=\"#m3ef5f9d799\" y=\"91.857065\"/>\n     <use style=\"fill:#4c72b0;stroke:#4c72b0;\" x=\"206.316776\" xlink:href=\"#m3ef5f9d799\" y=\"91.857065\"/>\n     <use style=\"fill:#4c72b0;stroke:#4c72b0;\" x=\"351.907532\" xlink:href=\"#m3ef5f9d799\" y=\"91.857065\"/>\n     <use style=\"fill:#4c72b0;stroke:#4c72b0;\" x=\"186.563257\" xlink:href=\"#m3ef5f9d799\" y=\"91.857065\"/>\n     <use style=\"fill:#4c72b0;stroke:#4c72b0;\" x=\"168.272961\" xlink:href=\"#m3ef5f9d799\" y=\"91.857065\"/>\n     <use style=\"fill:#4c72b0;stroke:#4c72b0;\" x=\"288.988914\" xlink:href=\"#m3ef5f9d799\" y=\"91.857065\"/>\n     <use style=\"fill:#4c72b0;stroke:#4c72b0;\" x=\"172.662632\" xlink:href=\"#m3ef5f9d799\" y=\"90.48204\"/>\n     <use style=\"fill:#4c72b0;stroke:#4c72b0;\" x=\"231.191579\" xlink:href=\"#m3ef5f9d799\" y=\"90.48204\"/>\n     <use style=\"fill:#4c72b0;stroke:#4c72b0;\" x=\"249.481875\" xlink:href=\"#m3ef5f9d799\" y=\"90.48204\"/>\n     <use style=\"fill:#4c72b0;stroke:#4c72b0;\" x=\"226.801908\" xlink:href=\"#m3ef5f9d799\" y=\"87.73199\"/>\n     <use style=\"fill:#4c72b0;stroke:#4c72b0;\" x=\"196.805822\" xlink:href=\"#m3ef5f9d799\" y=\"86.356965\"/>\n     <use style=\"fill:#4c72b0;stroke:#4c72b0;\" x=\"303.621151\" xlink:href=\"#m3ef5f9d799\" y=\"83.606915\"/>\n     <use style=\"fill:#4c72b0;stroke:#4c72b0;\" x=\"174.125855\" xlink:href=\"#m3ef5f9d799\" y=\"79.481841\"/>\n     <use style=\"fill:#4c72b0;stroke:#4c72b0;\" x=\"213.632895\" xlink:href=\"#m3ef5f9d799\" y=\"79.481841\"/>\n     <use style=\"fill:#4c72b0;stroke:#4c72b0;\" x=\"238.507697\" xlink:href=\"#m3ef5f9d799\" y=\"79.481841\"/>\n     <use style=\"fill:#4c72b0;stroke:#4c72b0;\" x=\"227.53352\" xlink:href=\"#m3ef5f9d799\" y=\"78.106816\"/>\n     <use style=\"fill:#4c72b0;stroke:#4c72b0;\" x=\"312.400493\" xlink:href=\"#m3ef5f9d799\" y=\"78.106816\"/>\n     <use style=\"fill:#4c72b0;stroke:#4c72b0;\" x=\"119.254968\" xlink:href=\"#m3ef5f9d799\" y=\"76.731791\"/>\n     <use style=\"fill:#4c72b0;stroke:#4c72b0;\" x=\"329.959177\" xlink:href=\"#m3ef5f9d799\" y=\"76.731791\"/>\n     <use style=\"fill:#4c72b0;stroke:#4c72b0;\" x=\"282.404408\" xlink:href=\"#m3ef5f9d799\" y=\"75.356766\"/>\n     <use style=\"fill:#4c72b0;stroke:#4c72b0;\" x=\"208.511612\" xlink:href=\"#m3ef5f9d799\" y=\"75.356766\"/>\n     <use style=\"fill:#4c72b0;stroke:#4c72b0;\" x=\"305.084375\" xlink:href=\"#m3ef5f9d799\" y=\"75.356766\"/>\n     <use style=\"fill:#4c72b0;stroke:#4c72b0;\" x=\"232.654803\" xlink:href=\"#m3ef5f9d799\" y=\"73.981741\"/>\n     <use style=\"fill:#4c72b0;stroke:#4c72b0;\" x=\"321.911447\" xlink:href=\"#m3ef5f9d799\" y=\"73.981741\"/>\n     <use style=\"fill:#4c72b0;stroke:#4c72b0;\" x=\"192.416151\" xlink:href=\"#m3ef5f9d799\" y=\"73.981741\"/>\n     <use style=\"fill:#4c72b0;stroke:#4c72b0;\" x=\"231.191579\" xlink:href=\"#m3ef5f9d799\" y=\"72.606716\"/>\n     <use style=\"fill:#4c72b0;stroke:#4c72b0;\" x=\"269.235395\" xlink:href=\"#m3ef5f9d799\" y=\"72.606716\"/>\n     <use style=\"fill:#4c72b0;stroke:#4c72b0;\" x=\"69.505362\" xlink:href=\"#m3ef5f9d799\" y=\"72.606716\"/>\n     <use style=\"fill:#4c72b0;stroke:#4c72b0;\" x=\"248.750263\" xlink:href=\"#m3ef5f9d799\" y=\"69.856666\"/>\n     <use style=\"fill:#4c72b0;stroke:#4c72b0;\" x=\"254.603158\" xlink:href=\"#m3ef5f9d799\" y=\"65.731592\"/>\n     <use style=\"fill:#4c72b0;stroke:#4c72b0;\" x=\"139.740099\" xlink:href=\"#m3ef5f9d799\" y=\"65.731592\"/>\n     <use style=\"fill:#4c72b0;stroke:#4c72b0;\" x=\"302.889539\" xlink:href=\"#m3ef5f9d799\" y=\"65.731592\"/>\n     <use style=\"fill:#4c72b0;stroke:#4c72b0;\" x=\"177.052303\" xlink:href=\"#m3ef5f9d799\" y=\"65.731592\"/>\n     <use style=\"fill:#4c72b0;stroke:#4c72b0;\" x=\"257.529605\" xlink:href=\"#m3ef5f9d799\" y=\"64.356567\"/>\n     <use style=\"fill:#4c72b0;stroke:#4c72b0;\" x=\"310.937269\" xlink:href=\"#m3ef5f9d799\" y=\"62.981542\"/>\n     <use style=\"fill:#4c72b0;stroke:#4c72b0;\" x=\"196.805822\" xlink:href=\"#m3ef5f9d799\" y=\"62.981542\"/>\n     <use style=\"fill:#4c72b0;stroke:#4c72b0;\" x=\"258.992829\" xlink:href=\"#m3ef5f9d799\" y=\"61.606517\"/>\n     <use style=\"fill:#4c72b0;stroke:#4c72b0;\" x=\"367.271381\" xlink:href=\"#m3ef5f9d799\" y=\"60.231492\"/>\n     <use style=\"fill:#4c72b0;stroke:#4c72b0;\" x=\"258.992829\" xlink:href=\"#m3ef5f9d799\" y=\"60.231492\"/>\n     <use style=\"fill:#4c72b0;stroke:#4c72b0;\" x=\"214.364507\" xlink:href=\"#m3ef5f9d799\" y=\"58.856467\"/>\n     <use style=\"fill:#4c72b0;stroke:#4c72b0;\" x=\"227.53352\" xlink:href=\"#m3ef5f9d799\" y=\"58.856467\"/>\n     <use style=\"fill:#4c72b0;stroke:#4c72b0;\" x=\"288.988914\" xlink:href=\"#m3ef5f9d799\" y=\"56.106418\"/>\n     <use style=\"fill:#4c72b0;stroke:#4c72b0;\" x=\"235.58125\" xlink:href=\"#m3ef5f9d799\" y=\"50.606318\"/>\n     <use style=\"fill:#4c72b0;stroke:#4c72b0;\" x=\"286.794079\" xlink:href=\"#m3ef5f9d799\" y=\"50.606318\"/>\n     <use style=\"fill:#4c72b0;stroke:#4c72b0;\" x=\"288.257302\" xlink:href=\"#m3ef5f9d799\" y=\"49.231293\"/>\n     <use style=\"fill:#4c72b0;stroke:#4c72b0;\" x=\"174.857467\" xlink:href=\"#m3ef5f9d799\" y=\"49.231293\"/>\n     <use style=\"fill:#4c72b0;stroke:#4c72b0;\" x=\"318.985\" xlink:href=\"#m3ef5f9d799\" y=\"47.856268\"/>\n     <use style=\"fill:#4c72b0;stroke:#4c72b0;\" x=\"288.988914\" xlink:href=\"#m3ef5f9d799\" y=\"47.856268\"/>\n     <use style=\"fill:#4c72b0;stroke:#4c72b0;\" x=\"352.639144\" xlink:href=\"#m3ef5f9d799\" y=\"46.481243\"/>\n     <use style=\"fill:#4c72b0;stroke:#4c72b0;\" x=\"348.249473\" xlink:href=\"#m3ef5f9d799\" y=\"45.106219\"/>\n     <use style=\"fill:#4c72b0;stroke:#4c72b0;\" x=\"335.08046\" xlink:href=\"#m3ef5f9d799\" y=\"42.356169\"/>\n     <use style=\"fill:#4c72b0;stroke:#4c72b0;\" x=\"351.907532\" xlink:href=\"#m3ef5f9d799\" y=\"40.981144\"/>\n     <use style=\"fill:#4c72b0;stroke:#4c72b0;\" x=\"222.412237\" xlink:href=\"#m3ef5f9d799\" y=\"32.730995\"/>\n     <use style=\"fill:#4c72b0;stroke:#4c72b0;\" x=\"290.452138\" xlink:href=\"#m3ef5f9d799\" y=\"32.730995\"/>\n     <use style=\"fill:#4c72b0;stroke:#4c72b0;\" x=\"198.269046\" xlink:href=\"#m3ef5f9d799\" y=\"32.730995\"/>\n     <use style=\"fill:#4c72b0;stroke:#4c72b0;\" x=\"327.764342\" xlink:href=\"#m3ef5f9d799\" y=\"29.980945\"/>\n     <use style=\"fill:#4c72b0;stroke:#4c72b0;\" x=\"309.474046\" xlink:href=\"#m3ef5f9d799\" y=\"25.85587\"/>\n     <use style=\"fill:#4c72b0;stroke:#4c72b0;\" x=\"373.855888\" xlink:href=\"#m3ef5f9d799\" y=\"18.980746\"/>\n    </g>\n   </g>\n   <g id=\"line2d_13\">\n    <path clip-path=\"url(#p97d4c14e58)\" d=\"M 128.03431 114.835158 \nL 91.453718 126.218219 \nL 161.688454 104.362742 \nL 106.817566 121.437334 \nL 112.670461 119.616044 \nL 95.843389 124.852252 \nL 164.614902 103.452097 \nL 164.614902 103.452097 \nL 185.100033 97.077582 \nL 227.53352 83.873231 \nL 143.398158 110.054272 \nL 172.662632 100.947823 \nL 143.398158 110.054272 \nL 126.571086 115.29048 \nL 171.199408 101.403146 \nL 243.62898 78.864684 \nL 158.030395 105.501048 \nL 98.769836 123.941607 \nL 221.680625 85.694521 \nL 180.710362 98.44355 \nL 162.420066 104.13508 \nL 133.887204 113.013868 \nL 90.722106 126.445881 \nL 108.28079 120.982011 \nL 318.253388 55.643239 \nL 209.974836 89.337101 \nL 181.441974 98.215888 \nL 206.316776 90.475407 \nL 351.907532 45.170823 \nL 186.563257 96.62226 \nL 168.272961 102.31379 \nL 288.988914 64.749688 \nL 172.662632 100.947823 \nL 231.191579 82.734925 \nL 249.481875 77.043394 \nL 226.801908 84.100892 \nL 196.805822 93.435003 \nL 303.621151 60.196464 \nL 174.125855 100.492501 \nL 213.632895 88.198794 \nL 238.507697 80.458313 \nL 227.53352 83.873231 \nL 312.400493 57.464529 \nL 119.254968 117.567093 \nL 329.959177 52.000659 \nL 282.404408 66.798639 \nL 208.511612 89.792423 \nL 305.084375 59.741141 \nL 232.654803 82.279603 \nL 321.911447 54.504933 \nL 192.416151 94.80097 \nL 231.191579 82.734925 \nL 269.235395 70.896541 \nL 69.505362 133.048056 \nL 248.750263 77.271056 \nL 254.603158 75.449766 \nL 139.740099 111.192578 \nL 302.889539 60.424125 \nL 177.052303 99.581856 \nL 257.529605 74.539121 \nL 310.937269 57.919851 \nL 196.805822 93.435003 \nL 258.992829 74.083798 \nL 367.271381 40.389937 \nL 258.992829 74.083798 \nL 214.364507 87.971133 \nL 227.53352 83.873231 \nL 288.988914 64.749688 \nL 235.58125 81.368958 \nL 286.794079 65.432672 \nL 288.257302 64.977349 \nL 174.857467 100.264839 \nL 318.985 55.415578 \nL 288.988914 64.749688 \nL 352.639144 44.943161 \nL 348.249473 46.309129 \nL 335.08046 50.407031 \nL 351.907532 45.170823 \nL 222.412237 85.46686 \nL 290.452138 64.294366 \nL 198.269046 92.97968 \nL 327.764342 52.683643 \nL 309.474046 58.375174 \nL 373.855888 38.340986 \n\" style=\"fill:none;stroke:#ff0000;stroke-linecap:round;stroke-width:4;\"/>\n   </g>\n   <g id=\"patch_3\">\n    <path d=\"M 54.280625 224.64 \nL 54.280625 7.2 \n\" style=\"fill:none;stroke:#ffffff;stroke-linecap:square;stroke-linejoin:miter;stroke-width:1.25;\"/>\n   </g>\n   <g id=\"patch_4\">\n    <path d=\"M 389.080625 224.64 \nL 389.080625 7.2 \n\" style=\"fill:none;stroke:#ffffff;stroke-linecap:square;stroke-linejoin:miter;stroke-width:1.25;\"/>\n   </g>\n   <g id=\"patch_5\">\n    <path d=\"M 54.280625 224.64 \nL 389.080625 224.64 \n\" style=\"fill:none;stroke:#ffffff;stroke-linecap:square;stroke-linejoin:miter;stroke-width:1.25;\"/>\n   </g>\n   <g id=\"patch_6\">\n    <path d=\"M 54.280625 7.2 \nL 389.080625 7.2 \n\" style=\"fill:none;stroke:#ffffff;stroke-linecap:square;stroke-linejoin:miter;stroke-width:1.25;\"/>\n   </g>\n  </g>\n </g>\n <defs>\n  <clipPath id=\"p97d4c14e58\">\n   <rect height=\"217.44\" width=\"334.8\" x=\"54.280625\" y=\"7.2\"/>\n  </clipPath>\n </defs>\n</svg>\n",
      "image/png": "[encoded data removed]"
     },
     "metadata": {}
    }
   ],
   "source": [
    "plt.scatter(x,y)\n",
    "yhat = reg.coef_ * x_matrix + reg.intercept_\n",
    "fig= plt.plot(x, yhat, lw=4, c='red', label='regression line')\n",
    "plt.xlabel('SAT',fontsize=20)\n",
    "plt.ylabel('GPA',fontsize=20)\n",
    "plt.show()"
   ]
  },
  {
   "cell_type": "code",
   "execution_count": null,
   "metadata": {},
   "outputs": [],
   "source": []
  }
 ],
 "metadata": {
  "kernelspec": {
   "display_name": "Python 3",
   "language": "python",
   "name": "python3"
  },
  "language_info": {
   "codemirror_mode": {
    "name": "ipython",
    "version": 3
   },
   "file_extension": ".py",
   "mimetype": "text/x-python",
   "name": "python",
   "nbconvert_exporter": "python",
   "pygments_lexer": "ipython3",
   "version": "3.7.7-final"
  }
 },
 "nbformat": 4,
 "nbformat_minor": 4
}